{
 "cells": [
  {
   "cell_type": "markdown",
   "metadata": {},
   "source": [
    "# Statement 1:\n",
    "# Create a program such that it accepts a string from a user, removes words in a sentence that does not start with a certain range of letters."
   ]
  },
  {
   "cell_type": "code",
   "execution_count": 6,
   "metadata": {},
   "outputs": [
    {
     "name": "stdout",
     "output_type": "stream",
     "text": [
      "Enter a one sentence quote: Good better best, never let it rest. Until your good is better, your better is best.\n",
      "good better best  it  good is better  better is best "
     ]
    }
   ],
   "source": [
    "famous_quote = input(\"Enter a one sentence quote: \").lower()\n",
    "word = \"\"\n",
    "\n",
    "for ltr in famous_quote:\n",
    "    if ltr.isalpha() == True:\n",
    "        word = word + ltr  \n",
    "#         print(word)\n",
    "    else:\n",
    "        if word < \"j\":\n",
    "            print(word,end=' ')\n",
    "            \n",
    "            word = \"\"\n",
    "    \n",
    "        else:\n",
    "            word = \"\""
   ]
  },
  {
   "cell_type": "markdown",
   "metadata": {},
   "source": [
    "# Statement 2:\n",
    "# A (26-digit) list has been provided with a number of counts. Print a list of alphabets according to the numbers"
   ]
  },
  {
   "cell_type": "code",
   "execution_count": 8,
   "metadata": {},
   "outputs": [
    {
     "name": "stdout",
     "output_type": "stream",
     "text": [
      "Write Text: 1,2,3,25,2\n",
      "['a', 'b', 'c', 'y', 'b']\n"
     ]
    }
   ],
   "source": [
    "import string\n",
    "nums=input('Write Text: ').split(',')\n",
    "output=[]\n",
    "# print(nums)\n",
    "\n",
    "num2alpha = dict(zip(range(1, 27), string.ascii_lowercase))\n",
    "for num in nums:\n",
    "    \n",
    "    output.append(num2alpha[int(num)])\n",
    "print(output)"
   ]
  },
  {
   "cell_type": "markdown",
   "metadata": {},
   "source": [
    "# Statement 3:\n",
    "# Create a program such that it accepts a string. Selective parts of the string is to be inserted in Pandas Dataframe."
   ]
  },
  {
   "cell_type": "code",
   "execution_count": 9,
   "metadata": {},
   "outputs": [
    {
     "name": "stdout",
     "output_type": "stream",
     "text": [
      "Write Text: My name is Jeevan Patil. I am 25 years old. I am an Engineer. I live in Kothrud, Karve Road, Pune.\n",
      "['Jeevan', 'Patil.']\n",
      "            Name Age Profession Area Name   Street Name   City\n",
      "0  Jeevan Patil.  25  Engineer.   Kothrud,  Karve Road,  Pune.\n"
     ]
    }
   ],
   "source": [
    "import string\n",
    "import pandas as pd\n",
    "output=[]\n",
    "nums=input('Write Text: ').split(' ')\n",
    "stop_ward=['My','name','is','I', 'am','years','old.', 'an', 'live', 'in']\n",
    "\n",
    "for num in nums:\n",
    "    if num in stop_ward:\n",
    "        pass\n",
    "    else:\n",
    "        output.append(num)\n",
    "print(output[0:2])\n",
    "    \n",
    "data = {'Name':[output[0]+' ' +output[1]], \n",
    "        'Age':output[2], \n",
    "        'Profession':output[3],\n",
    "       'Area Name ':output[4],\n",
    "       'Street Name':[output[5]+' '+output[6]],\n",
    "       'City':output[7]}\n",
    "   \n",
    "# Convert the dictionary into DataFrame  \n",
    "df = pd.DataFrame(data) \n",
    " \n",
    "print(df)"
   ]
  },
  {
   "cell_type": "code",
   "execution_count": null,
   "metadata": {},
   "outputs": [],
   "source": []
  }
 ],
 "metadata": {
  "kernelspec": {
   "display_name": "Python 3",
   "language": "python",
   "name": "python3"
  },
  "language_info": {
   "codemirror_mode": {
    "name": "ipython",
    "version": 3
   },
   "file_extension": ".py",
   "mimetype": "text/x-python",
   "name": "python",
   "nbconvert_exporter": "python",
   "pygments_lexer": "ipython3",
   "version": "3.7.5"
  }
 },
 "nbformat": 4,
 "nbformat_minor": 2
}
